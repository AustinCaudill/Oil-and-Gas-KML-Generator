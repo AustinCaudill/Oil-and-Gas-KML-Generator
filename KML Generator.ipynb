{
 "cells": [
  {
   "cell_type": "code",
   "execution_count": 1,
   "id": "05322aac",
   "metadata": {},
   "outputs": [],
   "source": [
    "## Austin Caudill\n",
    "## 2-23-2023\n",
    "\n",
    "## Install required Packages:\n",
    "## !pip install simplekml"
   ]
  },
  {
   "cell_type": "code",
   "execution_count": 2,
   "id": "2ed659e0",
   "metadata": {},
   "outputs": [],
   "source": [
    "import os\n",
    "import pandas as pd\n",
    "import simplekml\n",
    "import zipfile\n",
    "\n",
    "from simplekml import Region, LatLonAltBox, Lod ## Not sure if all this is needed.\n",
    "\n",
    "os.chdir(\"C:/Users/Austin/Dropbox (Daylight Petroleum)/Well Master\")\n",
    "\n",
    "# Load well data from CSV file\n",
    "well_data = pd.read_excel('DLP Well Master.xlsx')\n",
    "\n",
    "os.chdir(\"C:/Users/Austin/Documents/GitHub/Oil-and-Gas-KML-Generator\")\n",
    "\n",
    "# Create a KML object\n",
    "kml = simplekml.Kml()"
   ]
  },
  {
   "cell_type": "code",
   "execution_count": 3,
   "id": "65321021",
   "metadata": {},
   "outputs": [],
   "source": [
    "# Define icon URLs for different well types and statuses with Python Dictionaries.\n",
    "\n",
    "icon_urls = {\n",
    "    ('OIL WELL', 'ACTIVE'): 'Icons/Active/OIL WELL.png',\n",
    "    ('OIL WELL', 'INACTIVE'): 'Icons/Inactive/OIL WELL.png',\n",
    "    ('OIL WELL', 'TA'): 'Icons/Inactive/OIL WELL.png',\n",
    "    ('OIL WELL', 'PA'): 'Icons/Plugged/Plugged-All.png',\n",
    "    ('GAS WELL', 'ACTIVE'): 'Icons/Active/GAS WELL.png',\n",
    "    ('GAS WELL', 'INACTIVE'): 'Icons/Inactive/GAS WELL.png',\n",
    "    ('GAS WELL', 'TA'): 'Icons/Inactive/GAS WELL.png',\n",
    "    ('GAS WELL', 'PA'): 'Icons/Plugged/Plugged-All.png',\n",
    "    ('INJECTION WELL', 'ACTIVE'): 'Icons/Active/WATER.png',\n",
    "    ('INJECTION WELL', 'INACTIVE'): 'Icons/Inactive/WATER.png',\n",
    "    ('INJECTION WELL', 'TA'): 'Icons/Inactive/WATER.png',\n",
    "    ('INJECTION WELL', 'PA'): 'Icons/Plugged/Plugged-All.png',\n",
    "    ('SWD', 'ACTIVE'): 'Icons/Active/WATER.png',\n",
    "    ('SWD', 'TA'): 'Icons/Inactive/WATER.png',    \n",
    "    ('SWD', 'PA'): 'Icons/Plugged/Plugged-All.png',\n",
    "    ('WSW', 'ACTIVE'): 'Icons/Active/WATER.png',\n",
    "    ('WSW', 'INACTIVE'): 'Icons/Inactive/WATER.png',\n",
    "    ('WSW', 'TA'): 'Icons/Inactive/WATER.png',\n",
    "}\n"
   ]
  },
  {
   "cell_type": "code",
   "execution_count": 4,
   "id": "3d1c0526",
   "metadata": {},
   "outputs": [],
   "source": [
    "# Loop through each unique combination of District, Area, Route, and EngGroup, and add points to the KML object\n",
    "for district, district_group in well_data.groupby('District'):\n",
    "    district_folder = kml.newfolder(name=district)\n",
    "\n",
    "    for area, area_group in district_group.groupby('Area'):\n",
    "        area_folder = district_folder.newfolder(name=area)\n",
    "\n",
    "        for route, route_group in area_group.groupby('Route'):\n",
    "            route_folder = area_folder.newfolder(name=route)\n",
    "\n",
    "            for enggroup, group in route_group.groupby('EngGroup'):\n",
    "                enggroup_folder = route_folder.newfolder(name=enggroup)\n",
    "\n",
    "                # Loop through each well in this group and add a point to the folder\n",
    "                for index, row in group.iterrows():\n",
    "                    # Get well name, coordinates, WellType, and Well_Status values\n",
    "                    well_name = row['WellName']\n",
    "                    lat = row['Lat']\n",
    "                    lon = row['Long']\n",
    "                    well_type = row['WellType']\n",
    "                    well_status = row['WELL_STATUS']\n",
    "                    coords = [(lon, lat)]\n",
    "\n",
    "                    # Create a new point with a custom icon style\n",
    "                    point = enggroup_folder.newpoint(name=well_name, coords=coords)\n",
    "\n",
    "                    # Set the icon image for the point based on the WellType and Well_Status values\n",
    "                    icon_url = icon_urls.get((well_type, well_status), None)\n",
    "                    if icon_url is not None:\n",
    "                        icon = simplekml.Icon(href=icon_url)\n",
    "                        point.style.iconstyle.icon = icon\n",
    "                    else:\n",
    "                        icon_url = \"Icons/Unknown.png\"\n",
    "                        icon = simplekml.Icon(href=icon_url)\n",
    "                        point.style.iconstyle.icon = icon\n",
    "                        \n",
    "                    # Ensures highlight icon is same from if statement above.\n",
    "                    highlight_icon = icon\n",
    "\n",
    "                    # Set a highlight style for the point to show the label on hover.\n",
    "                    highlight_style = simplekml.Style()\n",
    "                    highlight_style.labelstyle.color = 'ffffffff'\n",
    "                    highlight_style.labelstyle.scale = 1.5\n",
    "                    highlight_style.labelstyle.visibility = 1\n",
    "                    highlight_style.iconstyle.scale = 1.2\n",
    "                    highlight_style.iconstyle.icon = highlight_icon\n",
    "                    \n",
    "                    point.stylemap.normalstyle = point.style\n",
    "                    point.stylemap.highlightstyle = highlight_style\n",
    "                    \n",
    "                    # Set the label style for the point\n",
    "                    point.style.labelstyle.scale = 0 # To hide initially\n",
    "                    point.viewrefreshmode = simplekml.ViewRefreshMode.onstop\n",
    "                    point.viewrefreshtime = 1 # seconds\n",
    "                    point.viewboundscale = 1\n",
    "                        \n",
    "                    # Create a description for the point\n",
    "                    description = f'<b>API:</b> {row[\"API\"]}<br>' \\\n",
    "                                    f'<b>District:</b> {row[\"District\"]}<br>' \\\n",
    "                                    f'<b>Area:</b> {row[\"Area\"]}<br>' \\\n",
    "                                    f'<b>Acq:</b> {row[\"DP_Acq\"]}<br>' \\\n",
    "                                    f'<b>Route:</b> {row[\"Route\"]}<br>' \\\n",
    "                                    f'<b>Eng Group:</b> {row[\"EngGroup\"]}<br>' \\\n",
    "                                    f'<b>County:</b> {row[\"County\"]}<br>' \\\n",
    "                                    f'<b>State:</b> {row[\"STATE\"]}<br>' \\\n",
    "                                    f'<b>AL Type:</b> {row[\"AL_Type\"]}<br>' \\\n",
    "                                    f'<b>Production Engineer:</b> {row[\"ProdEngineer\"]}<br>'\n",
    "\n",
    "                    point.description = description                                                      "
   ]
  },
  {
   "cell_type": "code",
   "execution_count": 5,
   "id": "ba9400ca",
   "metadata": {},
   "outputs": [],
   "source": [
    "# Save the KML file\n",
    "kml.save('well_data.kml')"
   ]
  },
  {
   "cell_type": "code",
   "execution_count": 6,
   "id": "88942038",
   "metadata": {},
   "outputs": [
    {
     "name": "stdout",
     "output_type": "stream",
     "text": [
      "Finished.\n"
     ]
    }
   ],
   "source": [
    "# Define the path to the KML file\n",
    "kml_path = 'well_data.kml'\n",
    "\n",
    "# Save the KML file\n",
    "kml.save(kml_path)\n",
    "\n",
    "print(\"Finished.\")"
   ]
  },
  {
   "cell_type": "code",
   "execution_count": 7,
   "id": "3ba510a8",
   "metadata": {},
   "outputs": [
    {
     "name": "stdout",
     "output_type": "stream",
     "text": [
      "Finished.\n"
     ]
    }
   ],
   "source": [
    "# Let's create a Network Linked KML!\n",
    "kml = simplekml.Kml()\n",
    "\n",
    "networklink = kml.newnetworklink(name='DLP KML')\n",
    "link = networklink.link\n",
    "link.href = 'https://raw.githubusercontent.com/AustinCaudill/Oil-and-Gas-KML-Generator/main/well_data.kml'\n",
    "link.viewrefreshmode = simplekml.ViewRefreshMode.onrequest\n",
    "\n",
    "kml.save('networklink.kml')\n",
    "\n",
    "\n",
    "print(\"Finished.\")"
   ]
  },
  {
   "cell_type": "code",
   "execution_count": null,
   "id": "17dd4cac",
   "metadata": {},
   "outputs": [],
   "source": []
  },
  {
   "cell_type": "code",
   "execution_count": null,
   "id": "d23bde75",
   "metadata": {},
   "outputs": [],
   "source": []
  }
 ],
 "metadata": {
  "kernelspec": {
   "display_name": "Python 3 (ipykernel)",
   "language": "python",
   "name": "python3"
  },
  "language_info": {
   "codemirror_mode": {
    "name": "ipython",
    "version": 3
   },
   "file_extension": ".py",
   "mimetype": "text/x-python",
   "name": "python",
   "nbconvert_exporter": "python",
   "pygments_lexer": "ipython3",
   "version": "3.9.12"
  }
 },
 "nbformat": 4,
 "nbformat_minor": 5
}
