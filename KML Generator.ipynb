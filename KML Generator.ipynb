{
 "cells": [
  {
   "cell_type": "code",
   "execution_count": 1,
   "id": "05322aac",
   "metadata": {},
   "outputs": [],
   "source": [
    "## Austin Caudill\n",
    "## 2-23-2023\n",
    "\n",
    "## Install required Packages:\n",
    "## !pip install simplekml"
   ]
  },
  {
   "cell_type": "code",
   "execution_count": 2,
   "id": "2ed659e0",
   "metadata": {},
   "outputs": [],
   "source": [
    "import os\n",
    "import pandas as pd\n",
    "import simplekml\n",
    "import zipfile\n",
    "\n",
    "os.chdir(\"C:/Users/Austin/Dropbox (Daylight Petroleum)/Well Master\")\n",
    "\n",
    "# Load well data from CSV file\n",
    "well_data = pd.read_excel('DLP Well Master.xlsx')\n",
    "\n",
    "os.chdir(\"C:/Users/Austin/Documents/GitHub/Oil-and-Gas-KML-Generator\")\n",
    "\n",
    "# Create a KML object\n",
    "kml = simplekml.Kml()"
   ]
  },
  {
   "cell_type": "code",
   "execution_count": 3,
   "id": "65321021",
   "metadata": {},
   "outputs": [],
   "source": [
    "# Define icon URLs for different well types and statuses with Python Dictionaries.\n",
    "\n",
    "icon_urls = {\n",
    "    ('OIL WELL', 'ACTIVE'): 'Icons/Active/OIL WELL.png',\n",
    "    ('OIL WELL', 'INACTIVE'): 'Icons/INACTIVE/OIL WELL.png',\n",
    "    ('OIL WELL', 'TA'): 'Icons/INACTIVE/OIL WELL.png',\n",
    "    ('OIL WELL', 'PA'): 'Icons/Plugged/Plugged-All.png',\n",
    "    ('GAS WELL', 'ACTIVE'): 'Icons/Active/GAS WELL.png',\n",
    "    ('GAS WELL', 'INACTIVE'): 'Icons/INACTIVE/GAS WELL.png',\n",
    "    ('GAS WELL', 'TA'): 'Icons/INACTIVE/GAS WELL.png',\n",
    "    ('GAS WELL', 'PA'): 'Icons/Plugged/Plugged-All.png',\n",
    "    ('INJECTION WELL', 'ACTIVE'): 'Icons/Active/WATER.png',\n",
    "    ('INJECTION WELL', 'INACTIVE'): 'Icons/INACTIVE/WATER.png',\n",
    "    ('INJECTION WELL', 'TA'): 'Icons/INACTIVE/WATER.png',\n",
    "    ('INJECTION WELL', 'PA'): 'Icons/Plugged/Plugged-All.png',\n",
    "    ('SWD', 'ACTIVE'): 'Icons/Active/WATER.png',\n",
    "    ('SWD', 'TA'): 'Icons/INACTIVE/WATER.png',    \n",
    "    ('SWD', 'PA'): 'Icons/Plugged/Plugged-All.png',\n",
    "    ('WSW', 'ACTIVE'): 'Icons/Active/WATER.png',\n",
    "    ('WSW', 'INACTIVE'): 'Icons/INACTIVE/WATER.png',\n",
    "    ('WSW', 'TA'): 'Icons/INACTIVE/WATER.png',\n",
    "}\n"
   ]
  },
  {
   "cell_type": "code",
   "execution_count": 5,
   "id": "3d1c0526",
   "metadata": {},
   "outputs": [
    {
     "ename": "AttributeError",
     "evalue": "'Kml' object has no attribute 'newlabelstyle'",
     "output_type": "error",
     "traceback": [
      "\u001b[1;31m---------------------------------------------------------------------------\u001b[0m",
      "\u001b[1;31mAttributeError\u001b[0m                            Traceback (most recent call last)",
      "Input \u001b[1;32mIn [5]\u001b[0m, in \u001b[0;36m<cell line: 2>\u001b[1;34m()\u001b[0m\n\u001b[0;32m      1\u001b[0m \u001b[38;5;66;03m# Define a style with a hidden label that only appears when zoomed in\u001b[39;00m\n\u001b[1;32m----> 2\u001b[0m zoomed_in_label_style \u001b[38;5;241m=\u001b[39m \u001b[43mkml\u001b[49m\u001b[38;5;241;43m.\u001b[39;49m\u001b[43mnewlabelstyle\u001b[49m(scale\u001b[38;5;241m=\u001b[39m\u001b[38;5;241m0\u001b[39m)\n\u001b[0;32m      3\u001b[0m zoomed_in_icon_style \u001b[38;5;241m=\u001b[39m kml\u001b[38;5;241m.\u001b[39mnewiconstyle(scale\u001b[38;5;241m=\u001b[39m\u001b[38;5;241m1.1\u001b[39m)\n\u001b[0;32m      5\u001b[0m \u001b[38;5;66;03m# Loop through each unique combination of District, Area, Route, and EngGroup, and add points to the KML object\u001b[39;00m\n",
      "\u001b[1;31mAttributeError\u001b[0m: 'Kml' object has no attribute 'newlabelstyle'"
     ]
    }
   ],
   "source": [
    "# Define a style with a hidden label that only appears when zoomed in\n",
    "zoomed_in_label_style = kml.newlabelstyle(scale=0)\n",
    "zoomed_in_icon_style = kml.newiconstyle(scale=1.1)\n",
    "\n",
    "# Loop through each unique combination of District, Area, Route, and EngGroup, and add points to the KML object\n",
    "for district, district_group in well_data.groupby('District'):\n",
    "    district_folder = kml.newfolder(name=district)\n",
    "\n",
    "    for area, area_group in district_group.groupby('Area'):\n",
    "        area_folder = district_folder.newfolder(name=area)\n",
    "\n",
    "        for route, route_group in area_group.groupby('Route'):\n",
    "            route_folder = area_folder.newfolder(name=route)\n",
    "\n",
    "            for enggroup, group in route_group.groupby('EngGroup'):\n",
    "                enggroup_folder = route_folder.newfolder(name=enggroup)\n",
    "\n",
    "                # Loop through each well in this group and add a point to the folder\n",
    "                for index, row in group.iterrows():\n",
    "                    # Get well name, coordinates, WellType, and Well_Status values\n",
    "                    well_name = row['WellName']\n",
    "                    lat = row['Lat']\n",
    "                    lon = row['Long']\n",
    "                    well_type = row['WellType']\n",
    "                    well_status = row['WELL_STATUS']\n",
    "                    coords = [(lon, lat)]\n",
    "\n",
    "                    # Create a new point with a custom icon style\n",
    "                    point = enggroup_folder.newpoint(name=well_name, coords=coords)\n",
    "\n",
    "                    # Set the icon image for the point based on the WellType and Well_Status values\n",
    "                    icon_url = icon_urls.get((well_type, well_status), None)\n",
    "                    if icon_url is not None:\n",
    "                        icon = simplekml.Icon(href=icon_url)\n",
    "                        point.style.iconstyle.icon = icon\n",
    "                        point.style.iconstyle = zoomed_in_icon_style\n",
    "\n",
    "                        # Create a description for the point\n",
    "                        description = f'<b>API:</b> {row[\"API\"]}<br>' \\\n",
    "                                      f'<b>District:</b> {row[\"District\"]}<br>' \\\n",
    "                                      f'<b>Area:</b> {row[\"Area\"]}<br>' \\\n",
    "                                      f'<b>Acq:</b> {row[\"DP_Acq\"]}<br>' \\\n",
    "                                      f'<b>Route:</b> {row[\"Route\"]}<br>' \\\n",
    "                                      f'<b>Eng Group:</b> {row[\"EngGroup\"]}<br>' \\\n",
    "                                      f'<b>County:</b> {row[\"County\"]}<br>' \\\n",
    "                                      f'<b>State:</b> {row[\"STATE\"]}<br>' \\\n",
    "                                      f'<b>AL Type:</b> {row[\"AL_Type\"]}<br>' \\\n",
    "                                      f'<b>Production Engineer:</b> {row[\"ProdEngineer\"]}<br>'\n",
    "                        \n",
    "                        point.description = description\n",
    "\n",
    "                        # Create a label for the point\n",
    "                        label = point.newlabel(text=well_name)\n",
    "                        label.style.labelstyle = zoomed_in_label_style\n",
    "                          \n",
    "                    else:\n",
    "                        icon_url = \"Icons/Unknown.png\"\n",
    "                        icon = simplekml.Icon(href=icon_url)\n",
    "                        point.style.iconstyle.icon = icon\n",
    "                                                \n",
    "                        # Create a description for the point\n",
    "                        description = f'<b>API:</b> {row[\"API\"]}<br>' \\\n",
    "                                      f'<b>District:</b> {row[\"District\"]}<br>' \\\n",
    "                                      f'<b>Area:</b> {row[\"Area\"]}<br>' \\\n",
    "                                      f'<b>Acq:</b> {row[\"DP_Acq\"]}<br>' \\\n",
    "                                      f'<b>Route:</b> {row[\"Route\"]}<br>' \\\n",
    "                                      f'<b>Eng Group:</b> {row[\"EngGroup\"]}<br>' \\\n",
    "                                      f'<b>County:</b> {row[\"County\"]}<br>' \\\n",
    "                                      f'<b>State:</b> {row[\"STATE\"]}<br>' \\\n",
    "                                      f'<b>AL Type:</b> {row[\"AL_Type\"]}<br>' \\\n",
    "                                      f'<b>Production Engineer:</b> {row[\"ProdEngineer\"]}<br>' \\\n",
    "                        \n",
    "                        point.description = description\n",
    "                                                              "
   ]
  },
  {
   "cell_type": "code",
   "execution_count": null,
   "id": "2d7da86f",
   "metadata": {},
   "outputs": [],
   "source": []
  },
  {
   "cell_type": "code",
   "execution_count": null,
   "id": "ba9400ca",
   "metadata": {},
   "outputs": [],
   "source": [
    "# Save the KML file\n",
    "kml.save('well_data.kml')"
   ]
  },
  {
   "cell_type": "code",
   "execution_count": null,
   "id": "88942038",
   "metadata": {},
   "outputs": [],
   "source": [
    "# Define the path to the KML file\n",
    "kml_path = 'well_data.kml'\n",
    "\n",
    "# Save the KML file\n",
    "kml.save(kml_path)\n"
   ]
  },
  {
   "cell_type": "code",
   "execution_count": null,
   "id": "ed2200fe",
   "metadata": {},
   "outputs": [],
   "source": []
  }
 ],
 "metadata": {
  "kernelspec": {
   "display_name": "Python 3 (ipykernel)",
   "language": "python",
   "name": "python3"
  },
  "language_info": {
   "codemirror_mode": {
    "name": "ipython",
    "version": 3
   },
   "file_extension": ".py",
   "mimetype": "text/x-python",
   "name": "python",
   "nbconvert_exporter": "python",
   "pygments_lexer": "ipython3",
   "version": "3.9.12"
  }
 },
 "nbformat": 4,
 "nbformat_minor": 5
}
