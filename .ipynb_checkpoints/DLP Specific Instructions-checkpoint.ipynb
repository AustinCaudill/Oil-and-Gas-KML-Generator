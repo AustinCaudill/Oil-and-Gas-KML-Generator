{
 "cells": [
  {
   "cell_type": "code",
   "execution_count": 2,
   "id": "3b8d3ce7",
   "metadata": {},
   "outputs": [],
   "source": [
    "import simplekml"
   ]
  },
  {
   "cell_type": "code",
   "execution_count": 6,
   "id": "c56ffecc",
   "metadata": {},
   "outputs": [],
   "source": [
    "# Create a KML object\n",
    "kml = simplekml.Kml()\n",
    "\n",
    "# Create a NetworkLinkControl element to define the network link behavior\n",
    "nlc = simplekml.NetworkLinkControl()\n",
    "nlc.id = 'DLP Network Link'\n",
    "nlc.viewrefreshmode = simplekml.ViewRefreshMode.onrequest\n",
    "\n",
    "# Create a NetworkLink element for the Well Master KML hosted on Github.\n",
    "nl1 = kml.newnetworklink(name='Well Master Data')\n",
    "nl1.link.href = 'https://www.austinbcaudill.com/DLP/well_data.kml'\n",
    "\n",
    "\n",
    "# Create a NetworkLink element for the field office locations KMZ hosted on Dropbox.\n",
    "nl2 = kml.newnetworklink(name='Field Office Locations')\n",
    "nl2.link.href = 'https://www.austinbcaudill.com/DLP/Field Office Locations KMZ.kmz'\n",
    "\n",
    "\n",
    "# Create a NetworkLink element for the second KMZ file\n",
    "#nl3 = kml.newnetworklink(name='HSE KMZ')\n",
    "#nl3.link.href = 'https://www.austinbcaudill.com/DLP/HSE KMZ.kmz'\n",
    "\n",
    "\n",
    "# Create a NetworkLink element for the second KMZ file\n",
    "nl4 = kml.newnetworklink(name='Land KMZ')\n",
    "nl4.link.href = 'https://www.austinbcaudill.com/DLP/Land KMZ.kmz'\n",
    "\n",
    "# Create a NetworkLink element for the second KMZ file\n",
    "nl5 = kml.newnetworklink(name='Pipelines and Plants KMZ')\n",
    "nl5.link.href = 'https://www.austinbcaudill.com/DLP/Pipelines and Plants KMZ.kmz'\n",
    "\n",
    "\n",
    "# Add the NetworkLink elements to the NetworkLinkControl element\n",
    "nlc.networklink = [nl1, nl2, nl3, nl4, nl5]\n",
    "\n",
    "kml.networklinkcontrol = nlc\n",
    "\n",
    "# Save the KML file\n",
    "kml.save('DLP Network Link.kml')"
   ]
  },
  {
   "cell_type": "code",
   "execution_count": null,
   "id": "dcf5a03b",
   "metadata": {},
   "outputs": [],
   "source": []
  }
 ],
 "metadata": {
  "kernelspec": {
   "display_name": "Python 3 (ipykernel)",
   "language": "python",
   "name": "python3"
  },
  "language_info": {
   "codemirror_mode": {
    "name": "ipython",
    "version": 3
   },
   "file_extension": ".py",
   "mimetype": "text/x-python",
   "name": "python",
   "nbconvert_exporter": "python",
   "pygments_lexer": "ipython3",
   "version": "3.9.12"
  }
 },
 "nbformat": 4,
 "nbformat_minor": 5
}
