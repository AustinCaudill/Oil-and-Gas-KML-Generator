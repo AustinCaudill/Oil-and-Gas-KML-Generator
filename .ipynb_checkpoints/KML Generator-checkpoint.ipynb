{
 "cells": [
  {
   "cell_type": "code",
   "execution_count": 1,
   "id": "25a76af4",
   "metadata": {},
   "outputs": [],
   "source": [
    "## Austin Caudill\n",
    "## 2-23-2023\n",
    "\n",
    "## Install required Packages:\n",
    "## !pip install simplekml"
   ]
  },
  {
   "cell_type": "code",
   "execution_count": 2,
   "id": "ba0c8e26",
   "metadata": {},
   "outputs": [],
   "source": [
    "import os\n",
    "import pandas as pd\n",
    "import simplekml\n",
    "import zipfile\n",
    "\n",
    "os.chdir(\"C:/Users/Austin/Dropbox (Daylight Petroleum)/Well Master\")\n",
    "\n",
    "# Load well data from CSV file\n",
    "well_data = pd.read_excel('DLP Well Master.xlsx')\n",
    "\n",
    "os.chdir(\"C:/Users/Austin/Documents/GitHub/Oil-and-Gas-KML-Generator\")\n",
    "\n",
    "# Create a KML object\n",
    "kml = simplekml.Kml()"
   ]
  },
  {
   "cell_type": "code",
   "execution_count": 3,
   "id": "f587e706",
   "metadata": {},
   "outputs": [],
   "source": [
    "# Define icon URLs for different well types and statuses with Python Dictionaries.\n",
    "\n",
    "icon_urls = {\n",
    "    ('OIL WELL', 'ACTIVE'): 'Icons/Active/OIL WELL.png',\n",
    "    ('OIL WELL', 'INACTIVE'): 'Icons/INACTIVE/OIL WELL.png',\n",
    "    ('OIL WELL', 'TA'): 'Icons/INACTIVE/OIL WELL.png',\n",
    "    ('OIL WELL', 'PA'): 'Icons/Plugged/Plugged-All.png',\n",
    "    ('GAS WELL', 'ACTIVE'): 'Icons/Active/GAS WELL.png',\n",
    "    ('GAS WELL', 'INACTIVE'): 'Icons/INACTIVE/GAS WELL.png',\n",
    "    ('GAS WELL', 'TA'): 'Icons/INACTIVE/GAS WELL.png',\n",
    "    ('GAS WELL', 'PA'): 'Icons/Plugged/Plugged-All.png',\n",
    "    ('INJECTION WELL', 'ACTIVE'): 'Icons/Active/WATER.png',\n",
    "    ('INJECTION WELL', 'INACTIVE'): 'Icons/INACTIVE/WATER.png',\n",
    "    ('INJECTION WELL', 'TA'): 'Icons/INACTIVE/WATER.png',\n",
    "    ('INJECTION WELL', 'PA'): 'Icons/Plugged/Plugged-All.png',\n",
    "    ('SWD', 'ACTIVE'): 'Icons/Active/WATER.png',\n",
    "    ('SWD', 'TA'): 'Icons/INACTIVE/WATER.png',    \n",
    "    ('SWD', 'PA'): 'Icons/Plugged/Plugged-All.png',\n",
    "    ('WSW', 'ACTIVE'): 'Icons/Active/WATER.png',\n",
    "    ('WSW', 'INACTIVE'): 'Icons/INACTIVE/WATER.png',\n",
    "    ('WSW', 'TA'): 'Icons/INACTIVE/WATER.png',\n",
    "}\n"
   ]
  },
  {
   "cell_type": "code",
   "execution_count": 4,
   "id": "03dff45a",
   "metadata": {},
   "outputs": [
    {
     "ename": "TypeError",
     "evalue": "__init__() got an unexpected keyword argument 'minlodpixels'",
     "output_type": "error",
     "traceback": [
      "\u001b[1;31m---------------------------------------------------------------------------\u001b[0m",
      "\u001b[1;31mTypeError\u001b[0m                                 Traceback (most recent call last)",
      "Input \u001b[1;32mIn [4]\u001b[0m, in \u001b[0;36m<cell line: 2>\u001b[1;34m()\u001b[0m\n\u001b[0;32m     22\u001b[0m coords \u001b[38;5;241m=\u001b[39m [(lon, lat)]\n\u001b[0;32m     24\u001b[0m \u001b[38;5;66;03m# Create a new point with a custom icon style\u001b[39;00m\n\u001b[1;32m---> 25\u001b[0m point \u001b[38;5;241m=\u001b[39m \u001b[43menggroup_folder\u001b[49m\u001b[38;5;241;43m.\u001b[39;49m\u001b[43mnewpoint\u001b[49m\u001b[43m(\u001b[49m\u001b[43mname\u001b[49m\u001b[38;5;241;43m=\u001b[39;49m\u001b[43mwell_name\u001b[49m\u001b[43m,\u001b[49m\u001b[43m \u001b[49m\u001b[43mcoords\u001b[49m\u001b[38;5;241;43m=\u001b[39;49m\u001b[43mcoords\u001b[49m\u001b[43m,\u001b[49m\u001b[43m \u001b[49m\u001b[43mminlodpixels\u001b[49m\u001b[38;5;241;43m=\u001b[39;49m\u001b[38;5;241;43m100\u001b[39;49m\u001b[43m)\u001b[49m\n\u001b[0;32m     27\u001b[0m \u001b[38;5;66;03m# Set the icon image for the point based on the WellType and Well_Status values\u001b[39;00m\n\u001b[0;32m     28\u001b[0m icon_url \u001b[38;5;241m=\u001b[39m icon_urls\u001b[38;5;241m.\u001b[39mget((well_type, well_status), \u001b[38;5;28;01mNone\u001b[39;00m)\n",
      "File \u001b[1;32m~\\anaconda3\\lib\\site-packages\\simplekml\\featgeom.py:564\u001b[0m, in \u001b[0;36mContainer.newpoint\u001b[1;34m(self, **kwargs)\u001b[0m\n\u001b[0;32m    556\u001b[0m \u001b[38;5;28;01mdef\u001b[39;00m \u001b[38;5;21mnewpoint\u001b[39m(\u001b[38;5;28mself\u001b[39m, \u001b[38;5;241m*\u001b[39m\u001b[38;5;241m*\u001b[39mkwargs):\n\u001b[0;32m    557\u001b[0m     \u001b[38;5;124;03m\"\"\"Creates a new :class:`simplekml.Point` and attaches it to this KML document.\u001b[39;00m\n\u001b[0;32m    558\u001b[0m \n\u001b[0;32m    559\u001b[0m \u001b[38;5;124;03m    Arguments are the same as :class:`simplekml.Point`\u001b[39;00m\n\u001b[1;32m   (...)\u001b[0m\n\u001b[0;32m    562\u001b[0m \u001b[38;5;124;03m      * an instance of :class:`simplekml.Point` class.\u001b[39;00m\n\u001b[0;32m    563\u001b[0m \u001b[38;5;124;03m    \"\"\"\u001b[39;00m\n\u001b[1;32m--> 564\u001b[0m     \u001b[38;5;28;01mreturn\u001b[39;00m \u001b[38;5;28mself\u001b[39m\u001b[38;5;241m.\u001b[39m_newfeature(Point, \u001b[38;5;241m*\u001b[39m\u001b[38;5;241m*\u001b[39mkwargs)\n",
      "File \u001b[1;32m~\\anaconda3\\lib\\site-packages\\simplekml\\featgeom.py:545\u001b[0m, in \u001b[0;36mContainer._newfeature\u001b[1;34m(self, cls, **kwargs)\u001b[0m\n\u001b[0;32m    541\u001b[0m \u001b[38;5;28;01mdef\u001b[39;00m \u001b[38;5;21m_newfeature\u001b[39m(\u001b[38;5;28mself\u001b[39m, \u001b[38;5;28mcls\u001b[39m, \u001b[38;5;241m*\u001b[39m\u001b[38;5;241m*\u001b[39mkwargs):\n\u001b[0;32m    542\u001b[0m     \u001b[38;5;124;03m\"\"\"Creates a new feature from the given class and attaches it to this\u001b[39;00m\n\u001b[0;32m    543\u001b[0m \u001b[38;5;124;03m    feature.\u001b[39;00m\n\u001b[0;32m    544\u001b[0m \u001b[38;5;124;03m    \"\"\"\u001b[39;00m\n\u001b[1;32m--> 545\u001b[0m     feat \u001b[38;5;241m=\u001b[39m \u001b[38;5;28mcls\u001b[39m(\u001b[38;5;241m*\u001b[39m\u001b[38;5;241m*\u001b[39mkwargs)\n\u001b[0;32m    546\u001b[0m     feat\u001b[38;5;241m.\u001b[39m_parent \u001b[38;5;241m=\u001b[39m \u001b[38;5;28mself\u001b[39m\n\u001b[0;32m    547\u001b[0m     \u001b[38;5;28;01mif\u001b[39;00m \u001b[38;5;28misinstance\u001b[39m(feat, Geometry):\n",
      "File \u001b[1;32m~\\anaconda3\\lib\\site-packages\\simplekml\\featgeom.py:1223\u001b[0m, in \u001b[0;36mPoint.__init__\u001b[1;34m(self, extrude, altitudemode, gxaltitudemode, **kwargs)\u001b[0m\n\u001b[0;32m   1218\u001b[0m \u001b[38;5;28;01mdef\u001b[39;00m \u001b[38;5;21m__init__\u001b[39m(\u001b[38;5;28mself\u001b[39m,\n\u001b[0;32m   1219\u001b[0m              extrude\u001b[38;5;241m=\u001b[39m\u001b[38;5;28;01mNone\u001b[39;00m,\n\u001b[0;32m   1220\u001b[0m              altitudemode\u001b[38;5;241m=\u001b[39m\u001b[38;5;28;01mNone\u001b[39;00m,\n\u001b[0;32m   1221\u001b[0m              gxaltitudemode\u001b[38;5;241m=\u001b[39m\u001b[38;5;28;01mNone\u001b[39;00m,\n\u001b[0;32m   1222\u001b[0m              \u001b[38;5;241m*\u001b[39m\u001b[38;5;241m*\u001b[39mkwargs):\n\u001b[1;32m-> 1223\u001b[0m     \u001b[38;5;28msuper\u001b[39m(Point, \u001b[38;5;28mself\u001b[39m)\u001b[38;5;241m.\u001b[39m\u001b[38;5;21m__init__\u001b[39m(\u001b[38;5;241m*\u001b[39m\u001b[38;5;241m*\u001b[39mkwargs)\n\u001b[0;32m   1224\u001b[0m     \u001b[38;5;28mself\u001b[39m\u001b[38;5;241m.\u001b[39m_kml[\u001b[38;5;124m'\u001b[39m\u001b[38;5;124mextrude\u001b[39m\u001b[38;5;124m'\u001b[39m] \u001b[38;5;241m=\u001b[39m extrude\n\u001b[0;32m   1225\u001b[0m     \u001b[38;5;28mself\u001b[39m\u001b[38;5;241m.\u001b[39m_kml[\u001b[38;5;124m'\u001b[39m\u001b[38;5;124maltitudeMode\u001b[39m\u001b[38;5;124m'\u001b[39m] \u001b[38;5;241m=\u001b[39m altitudemode\n",
      "File \u001b[1;32m~\\anaconda3\\lib\\site-packages\\simplekml\\featgeom.py:1064\u001b[0m, in \u001b[0;36mPointGeometry.__init__\u001b[1;34m(self, coords, **kwargs)\u001b[0m\n\u001b[0;32m   1062\u001b[0m \u001b[38;5;28;01mdef\u001b[39;00m \u001b[38;5;21m__init__\u001b[39m(\u001b[38;5;28mself\u001b[39m,\n\u001b[0;32m   1063\u001b[0m              coords\u001b[38;5;241m=\u001b[39m(), \u001b[38;5;241m*\u001b[39m\u001b[38;5;241m*\u001b[39mkwargs):\n\u001b[1;32m-> 1064\u001b[0m     \u001b[38;5;28msuper\u001b[39m(PointGeometry, \u001b[38;5;28mself\u001b[39m)\u001b[38;5;241m.\u001b[39m\u001b[38;5;21m__init__\u001b[39m(\u001b[38;5;241m*\u001b[39m\u001b[38;5;241m*\u001b[39mkwargs)\n\u001b[0;32m   1065\u001b[0m     \u001b[38;5;28mself\u001b[39m\u001b[38;5;241m.\u001b[39m_kml[\u001b[38;5;124m'\u001b[39m\u001b[38;5;124mcoordinates\u001b[39m\u001b[38;5;124m'\u001b[39m] \u001b[38;5;241m=\u001b[39m Coordinates()\n\u001b[0;32m   1066\u001b[0m     \u001b[38;5;28mself\u001b[39m\u001b[38;5;241m.\u001b[39m_kml[\u001b[38;5;124m'\u001b[39m\u001b[38;5;124mcoordinates\u001b[39m\u001b[38;5;124m'\u001b[39m]\u001b[38;5;241m.\u001b[39maddcoordinates(\u001b[38;5;28mlist\u001b[39m(coords))\n",
      "File \u001b[1;32m~\\anaconda3\\lib\\site-packages\\simplekml\\featgeom.py:753\u001b[0m, in \u001b[0;36mGeometry.__init__\u001b[1;34m(self, **kwargs)\u001b[0m\n\u001b[0;32m    751\u001b[0m \u001b[38;5;28;01mdef\u001b[39;00m \u001b[38;5;21m__init__\u001b[39m(\u001b[38;5;28mself\u001b[39m, \u001b[38;5;241m*\u001b[39m\u001b[38;5;241m*\u001b[39mkwargs):\n\u001b[0;32m    752\u001b[0m     \u001b[38;5;28msuper\u001b[39m(Geometry, \u001b[38;5;28mself\u001b[39m)\u001b[38;5;241m.\u001b[39m\u001b[38;5;21m__init__\u001b[39m()\n\u001b[1;32m--> 753\u001b[0m     \u001b[38;5;28mself\u001b[39m\u001b[38;5;241m.\u001b[39m_placemark \u001b[38;5;241m=\u001b[39m Placemark(\u001b[38;5;241m*\u001b[39m\u001b[38;5;241m*\u001b[39mkwargs)\n\u001b[0;32m    754\u001b[0m     \u001b[38;5;28mself\u001b[39m\u001b[38;5;241m.\u001b[39m_placemark\u001b[38;5;241m.\u001b[39mgeometry \u001b[38;5;241m=\u001b[39m \u001b[38;5;28mself\u001b[39m\n\u001b[0;32m    755\u001b[0m     \u001b[38;5;28mself\u001b[39m\u001b[38;5;241m.\u001b[39m_parent \u001b[38;5;241m=\u001b[39m \u001b[38;5;28;01mNone\u001b[39;00m\n",
      "File \u001b[1;32m~\\anaconda3\\lib\\site-packages\\simplekml\\featgeom.py:1038\u001b[0m, in \u001b[0;36mPlacemark.__init__\u001b[1;34m(self, geometry, **kwargs)\u001b[0m\n\u001b[0;32m   1037\u001b[0m \u001b[38;5;28;01mdef\u001b[39;00m \u001b[38;5;21m__init__\u001b[39m(\u001b[38;5;28mself\u001b[39m, geometry\u001b[38;5;241m=\u001b[39m\u001b[38;5;28;01mNone\u001b[39;00m, \u001b[38;5;241m*\u001b[39m\u001b[38;5;241m*\u001b[39mkwargs):\n\u001b[1;32m-> 1038\u001b[0m     \u001b[38;5;28msuper\u001b[39m(Placemark, \u001b[38;5;28mself\u001b[39m)\u001b[38;5;241m.\u001b[39m\u001b[38;5;21m__init__\u001b[39m(\u001b[38;5;241m*\u001b[39m\u001b[38;5;241m*\u001b[39mkwargs)\n\u001b[0;32m   1039\u001b[0m     \u001b[38;5;28mself\u001b[39m\u001b[38;5;241m.\u001b[39m_kml[\u001b[38;5;124m'\u001b[39m\u001b[38;5;124mGeometry_\u001b[39m\u001b[38;5;124m'\u001b[39m] \u001b[38;5;241m=\u001b[39m geometry\n",
      "\u001b[1;31mTypeError\u001b[0m: __init__() got an unexpected keyword argument 'minlodpixels'"
     ]
    }
   ],
   "source": [
    "# Loop through each unique combination of District, Area, Route, and EngGroup, and add points to the KML object\n",
    "for district, district_group in well_data.groupby('District'):\n",
    "    district_folder = kml.newfolder(name=district)\n",
    "\n",
    "    for area, area_group in district_group.groupby('Area'):\n",
    "        area_folder = district_folder.newfolder(name=area)\n",
    "\n",
    "        for route, route_group in area_group.groupby('Route'):\n",
    "            route_folder = area_folder.newfolder(name=route)\n",
    "\n",
    "            for enggroup, group in route_group.groupby('EngGroup'):\n",
    "                enggroup_folder = route_folder.newfolder(name=enggroup)\n",
    "\n",
    "                # Loop through each well in this group and add a point to the folder\n",
    "                for index, row in group.iterrows():\n",
    "                    # Get well name, coordinates, WellType, and Well_Status values\n",
    "                    well_name = row['WellName']\n",
    "                    lat = row['Lat']\n",
    "                    lon = row['Long']\n",
    "                    well_type = row['WellType']\n",
    "                    well_status = row['WELL_STATUS']\n",
    "                    coords = [(lon, lat)]\n",
    "\n",
    "                    # Create a new point with a custom icon style\n",
    "                    point = enggroup_folder.newpoint(name=well_name, coords=coords)\n",
    "\n",
    "                    # Set the icon image for the point based on the WellType and Well_Status values\n",
    "                    icon_url = icon_urls.get((well_type, well_status), None)\n",
    "                    if icon_url is not None:\n",
    "                        icon = simplekml.Icon(href=icon_url)\n",
    "                        point.style.iconstyle.icon = icon\n",
    "                        \n",
    "                        # Create a description for the point\n",
    "                        description = f'<b>API:</b> {row[\"API\"]}<br>' \\\n",
    "                                      f'<b>District:</b> {row[\"District\"]}<br>' \\\n",
    "                                      f'<b>Area:</b> {row[\"Area\"]}<br>' \\\n",
    "                                      f'<b>Acq:</b> {row[\"DP_Acq\"]}<br>' \\\n",
    "                                      f'<b>Route:</b> {row[\"Route\"]}<br>' \\\n",
    "                                      f'<b>Eng Group:</b> {row[\"EngGroup\"]}<br>' \\\n",
    "                                      f'<b>County:</b> {row[\"County\"]}<br>' \\\n",
    "                                      f'<b>State:</b> {row[\"STATE\"]}<br>' \\\n",
    "                                      f'<b>AL Type:</b> {row[\"AL_Type\"]}<br>' \\\n",
    "                                      f'<b>Production Engineer:</b> {row[\"ProdEngineer\"]}<br>' \\\n",
    "                        \n",
    "                        point.description = description\n",
    "                        \n",
    "                    else:\n",
    "                        icon_url = \"Icons/Unknown.png\"\n",
    "                        icon = simplekml.Icon(href=icon_url)\n",
    "                        point.style.iconstyle.icon = icon\n",
    "                        \n",
    "                        # Create a description for the point\n",
    "                        description = f'<b>API:</b> {row[\"API\"]}<br>' \\\n",
    "                                      f'<b>District:</b> {row[\"District\"]}<br>' \\\n",
    "                                      f'<b>Area:</b> {row[\"Area\"]}<br>' \\\n",
    "                                      f'<b>Acq:</b> {row[\"DP_Acq\"]}<br>' \\\n",
    "                                      f'<b>Route:</b> {row[\"Route\"]}<br>' \\\n",
    "                                      f'<b>Eng Group:</b> {row[\"EngGroup\"]}<br>' \\\n",
    "                                      f'<b>County:</b> {row[\"County\"]}<br>' \\\n",
    "                                      f'<b>State:</b> {row[\"STATE\"]}<br>' \\\n",
    "                                      f'<b>AL Type:</b> {row[\"AL_Type\"]}<br>' \\\n",
    "                                      f'<b>Production Engineer:</b> {row[\"ProdEngineer\"]}<br>' \\\n",
    "                        \n",
    "                        point.description = description                        \n",
    "                    "
   ]
  },
  {
   "cell_type": "code",
   "execution_count": null,
   "id": "9d26ff89",
   "metadata": {},
   "outputs": [],
   "source": [
    "# Save the KML file\n",
    "kml.save('well_data.kml')"
   ]
  },
  {
   "cell_type": "code",
   "execution_count": null,
   "id": "90379fe0",
   "metadata": {},
   "outputs": [],
   "source": [
    "# Define the path to the KML file\n",
    "kml_path = 'well_data.kml'\n",
    "\n",
    "# Save the KML file\n",
    "kml.save(kml_path)\n"
   ]
  },
  {
   "cell_type": "code",
   "execution_count": null,
   "id": "c934835c",
   "metadata": {},
   "outputs": [],
   "source": []
  }
 ],
 "metadata": {
  "kernelspec": {
   "display_name": "Python 3 (ipykernel)",
   "language": "python",
   "name": "python3"
  },
  "language_info": {
   "codemirror_mode": {
    "name": "ipython",
    "version": 3
   },
   "file_extension": ".py",
   "mimetype": "text/x-python",
   "name": "python",
   "nbconvert_exporter": "python",
   "pygments_lexer": "ipython3",
   "version": "3.9.12"
  }
 },
 "nbformat": 4,
 "nbformat_minor": 5
}
